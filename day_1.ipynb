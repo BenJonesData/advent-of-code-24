{
 "cells": [
  {
   "cell_type": "code",
   "execution_count": 1,
   "metadata": {},
   "outputs": [],
   "source": [
    "import pandas as pd\n",
    "from typing import List"
   ]
  },
  {
   "cell_type": "code",
   "execution_count": 2,
   "metadata": {},
   "outputs": [],
   "source": [
    "DUMMY_LIST_1 = [3, 4, 2, 1, 3, 3] # ordered: [1, 2, 3, 3, 3, 4]\n",
    "DUMMY_LIST_2 = [4, 3, 5, 3, 9, 3] # ordered: [3, 3, 3, 4, 5, 9]"
   ]
  },
  {
   "cell_type": "code",
   "execution_count": 3,
   "metadata": {},
   "outputs": [
    {
     "name": "stderr",
     "output_type": "stream",
     "text": [
      "/var/folders/dx/c8t929_j1233l4gpb_wl5xs80000gp/T/ipykernel_51442/3878007716.py:1: ParserWarning: Falling back to the 'python' engine because the 'c' engine does not support regex separators (separators > 1 char and different from '\\s+' are interpreted as regex); you can avoid this warning by specifying engine='python'.\n",
      "  data = pd.read_csv('input_1.csv', delimiter='   ', header=None)\n"
     ]
    }
   ],
   "source": [
    "data = pd.read_csv('input_1.csv', delimiter='   ', header=None)\n",
    "input_1, input_2 = list(data[0]), list(data[1])"
   ]
  },
  {
   "cell_type": "markdown",
   "metadata": {},
   "source": [
    "## Part 1"
   ]
  },
  {
   "cell_type": "code",
   "execution_count": 4,
   "metadata": {},
   "outputs": [],
   "source": [
    "def test_difference_solution(func: callable) -> None:\n",
    "    expected_output = 11 # differences: 2 + 1 + 0 + 1 + 2 + 5\n",
    "    \n",
    "    function_output = func(DUMMY_LIST_1, DUMMY_LIST_2)\n",
    "    function_output_reversed = func(DUMMY_LIST_2, DUMMY_LIST_1)\n",
    "\n",
    "    if function_output != function_output_reversed:\n",
    "        raise ValueError(\"function is not symmetrical\")\n",
    "    \n",
    "    elif function_output != expected_output:\n",
    "        raise ValueError(\"function does not return correct value\")\n",
    "    \n",
    "    else: \n",
    "        print(\"passed\")"
   ]
  },
  {
   "cell_type": "code",
   "execution_count": 5,
   "metadata": {},
   "outputs": [],
   "source": [
    "def find_difference(l1: List[int], l2: List[int]) -> int:\n",
    "    \"\"\"\n",
    "    Finds the sum of the element wise difference between two lists when sorted.\n",
    "    \"\"\"\n",
    "    l1_sorted = sorted(l1)\n",
    "    l2_sorted = sorted(l2)\n",
    "    differences = [abs(a - b) for a, b in zip(l1_sorted, l2_sorted)]\n",
    "    \n",
    "    return sum(differences)\n"
   ]
  },
  {
   "cell_type": "code",
   "execution_count": 6,
   "metadata": {},
   "outputs": [
    {
     "name": "stdout",
     "output_type": "stream",
     "text": [
      "passed\n"
     ]
    }
   ],
   "source": [
    "test_difference_solution(find_difference)"
   ]
  },
  {
   "cell_type": "code",
   "execution_count": 7,
   "metadata": {},
   "outputs": [
    {
     "data": {
      "text/plain": [
       "2367773"
      ]
     },
     "execution_count": 7,
     "metadata": {},
     "output_type": "execute_result"
    }
   ],
   "source": [
    "find_difference(input_1, input_2)"
   ]
  },
  {
   "cell_type": "markdown",
   "metadata": {},
   "source": [
    "## Part 2"
   ]
  },
  {
   "cell_type": "code",
   "execution_count": 8,
   "metadata": {},
   "outputs": [],
   "source": [
    "def test_similarity_solution(func: callable) -> None:\n",
    "    expected_output = 31 # similarities: (9 + 4 + 0 + 0 + 9 + 9)\n",
    "    \n",
    "    function_output = func(DUMMY_LIST_1, DUMMY_LIST_2)\n",
    "    function_output_reversed = func(DUMMY_LIST_1, DUMMY_LIST_2)\n",
    "\n",
    "    if function_output != function_output_reversed:\n",
    "        raise ValueError(\"function is not symmetrical\")\n",
    "    \n",
    "    elif function_output != expected_output:\n",
    "        raise ValueError(\"function does not return correct value\")\n",
    "    \n",
    "    else: \n",
    "        print(\"passed\")"
   ]
  },
  {
   "cell_type": "code",
   "execution_count": 9,
   "metadata": {},
   "outputs": [],
   "source": [
    "def find_similarity(l1: List[int], l2: List[int]) -> int:\n",
    "    \"\"\"\n",
    "    Finds the similarity score between two lists by summing the product of each element in one list by its frequency in the opposite list.\n",
    "    Note that this is a symmetrical operation.\n",
    "    \"\"\"\n",
    "    scores = [num * l2.count(num) for num in l1]\n",
    "    \n",
    "    return sum(scores)\n"
   ]
  },
  {
   "cell_type": "code",
   "execution_count": 10,
   "metadata": {},
   "outputs": [
    {
     "name": "stdout",
     "output_type": "stream",
     "text": [
      "passed\n"
     ]
    }
   ],
   "source": [
    "test_similarity_solution(find_similarity)"
   ]
  },
  {
   "cell_type": "code",
   "execution_count": 11,
   "metadata": {},
   "outputs": [
    {
     "data": {
      "text/plain": [
       "21271939"
      ]
     },
     "execution_count": 11,
     "metadata": {},
     "output_type": "execute_result"
    }
   ],
   "source": [
    "find_similarity(input_1, input_2)"
   ]
  }
 ],
 "metadata": {
  "kernelspec": {
   "display_name": ".venv",
   "language": "python",
   "name": "python3"
  },
  "language_info": {
   "codemirror_mode": {
    "name": "ipython",
    "version": 3
   },
   "file_extension": ".py",
   "mimetype": "text/x-python",
   "name": "python",
   "nbconvert_exporter": "python",
   "pygments_lexer": "ipython3",
   "version": "3.10.15"
  }
 },
 "nbformat": 4,
 "nbformat_minor": 2
}
