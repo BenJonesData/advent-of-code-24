{
 "cells": [
  {
   "cell_type": "code",
   "execution_count": 117,
   "metadata": {},
   "outputs": [],
   "source": [
    "from typing import List, Set"
   ]
  },
  {
   "cell_type": "code",
   "execution_count": 118,
   "metadata": {},
   "outputs": [],
   "source": [
    "DUMMY_MAP = \"\"\"89010123\n",
    "78121874\n",
    "87430965\n",
    "96549874\n",
    "45678903\n",
    "32019012\n",
    "01329801\n",
    "10456732\"\"\""
   ]
  },
  {
   "cell_type": "markdown",
   "metadata": {},
   "source": [
    "## Part 1  "
   ]
  },
  {
   "cell_type": "code",
   "execution_count": 119,
   "metadata": {},
   "outputs": [],
   "source": [
    "def test_sum_trailhead_scores(func):\n",
    "    expected_output = 36\n",
    "\n",
    "    function_output = func(DUMMY_MAP)\n",
    "\n",
    "    if function_output != expected_output:\n",
    "        raise ValueError(\"function does not return correct value\")\n",
    "    else:\n",
    "        print(\"passed\")"
   ]
  },
  {
   "cell_type": "code",
   "execution_count": 120,
   "metadata": {},
   "outputs": [],
   "source": [
    "def find_trailhead_coordinates(map: List[list]) -> List[tuple]:\n",
    "    \"\"\"\n",
    "    Returns a list of coordinates corresponding to all trailheads.\n",
    "    \"\"\"\n",
    "    coords = []\n",
    "    for y, row in enumerate(map):\n",
    "        for x, element in enumerate(row):\n",
    "            if element == 0:\n",
    "                coords.append((x, y))\n",
    "    \n",
    "    return coords"
   ]
  },
  {
   "cell_type": "code",
   "execution_count": 121,
   "metadata": {},
   "outputs": [],
   "source": [
    "def find_next_steps(coords: set, map: List[list]) -> Set[tuple]:\n",
    "    \"\"\"\n",
    "    Returns a set of coordinates corresponsing to valid next steps for given coordinates. If none exist, an empty set is returned.\n",
    "    \"\"\"\n",
    "    max_y = len(map) - 1\n",
    "    max_x = len(map[0]) - 1\n",
    "\n",
    "    next_steps = set()\n",
    "    for x, y in coords:\n",
    "        h = map[y][x] + 1\n",
    "        if x > 0:\n",
    "            if map[y][x-1] == h:\n",
    "                next_steps.add((x-1, y))\n",
    "        if x < max_x:\n",
    "            if map[y][x+1] == h:\n",
    "                next_steps.add((x+1, y))\n",
    "        if y > 0:\n",
    "            if map[y-1][x] == h:\n",
    "                next_steps.add((x, y-1))\n",
    "        if y < max_y:\n",
    "            if map[y+1][x] == h:\n",
    "                next_steps.add((x, y+1))\n",
    "\n",
    "    return next_steps"
   ]
  },
  {
   "cell_type": "code",
   "execution_count": 122,
   "metadata": {},
   "outputs": [],
   "source": [
    "def trailhead_score(coords: tuple, map: List[list]) -> int:\n",
    "    \"\"\"\n",
    "    Calculates the score of a single trailhead.\n",
    "    \"\"\"\n",
    "    coords = {coords}\n",
    "    for i in range(9):\n",
    "        coords = find_next_steps(coords, map)\n",
    "    return len(coords)"
   ]
  },
  {
   "cell_type": "code",
   "execution_count": 123,
   "metadata": {},
   "outputs": [],
   "source": [
    "def sum_trailhead_scores(map: str) -> int:\n",
    "    \"\"\"\n",
    "    Returns the sum of the scores of all the trailheads in a map.\n",
    "    \"\"\"\n",
    "    map = map.split(\"\\n\")\n",
    "    map = [[int(element) for element in row] for row in map]\n",
    "\n",
    "    trailheads = find_trailhead_coordinates(map)\n",
    "\n",
    "    score = 0\n",
    "    for th in trailheads:\n",
    "        score += trailhead_score(th, map)\n",
    "\n",
    "    return score\n",
    "\n"
   ]
  },
  {
   "cell_type": "code",
   "execution_count": 124,
   "metadata": {},
   "outputs": [
    {
     "data": {
      "text/plain": [
       "36"
      ]
     },
     "execution_count": 124,
     "metadata": {},
     "output_type": "execute_result"
    }
   ],
   "source": [
    "sum_trailhead_scores(DUMMY_MAP)"
   ]
  },
  {
   "cell_type": "code",
   "execution_count": 125,
   "metadata": {},
   "outputs": [
    {
     "name": "stdout",
     "output_type": "stream",
     "text": [
      "passed\n"
     ]
    }
   ],
   "source": [
    "test_sum_trailhead_scores(sum_trailhead_scores)"
   ]
  },
  {
   "cell_type": "code",
   "execution_count": 126,
   "metadata": {},
   "outputs": [],
   "source": [
    "with open('input_10.txt') as file:\n",
    "    input_map = file.read()"
   ]
  },
  {
   "cell_type": "code",
   "execution_count": 127,
   "metadata": {},
   "outputs": [
    {
     "data": {
      "text/plain": [
       "778"
      ]
     },
     "execution_count": 127,
     "metadata": {},
     "output_type": "execute_result"
    }
   ],
   "source": [
    "sum_trailhead_scores(input_map)"
   ]
  },
  {
   "cell_type": "markdown",
   "metadata": {},
   "source": [
    "## Part 2"
   ]
  },
  {
   "cell_type": "code",
   "execution_count": 128,
   "metadata": {},
   "outputs": [],
   "source": [
    "def test_sum_trailhead_distinct_scores(func):\n",
    "    expected_output = 81\n",
    "\n",
    "    function_output = func(DUMMY_MAP)\n",
    "\n",
    "    if function_output != expected_output:\n",
    "        raise ValueError(\"function does not return correct value\")\n",
    "    else:\n",
    "        print(\"passed\")"
   ]
  },
  {
   "cell_type": "code",
   "execution_count": 129,
   "metadata": {},
   "outputs": [],
   "source": [
    "def find_next_steps_duplicates(coords: set, map: List[list]) -> Set[tuple]:\n",
    "    \"\"\"\n",
    "    Returns a list of coordinates corresponsing to valid next steps for given coordinates. If none exist, an empty set is returned.\n",
    "    Note that now we return the coordinates as a list, as duplicates represent more than one path to that point\n",
    "    \"\"\"\n",
    "    max_y = len(map) - 1\n",
    "    max_x = len(map[0]) - 1\n",
    "\n",
    "    next_steps = []\n",
    "    for x, y in coords:\n",
    "        h = map[y][x] + 1\n",
    "        if x > 0:\n",
    "            if map[y][x-1] == h:\n",
    "                next_steps.append((x-1, y))\n",
    "        if x < max_x:\n",
    "            if map[y][x+1] == h:\n",
    "                next_steps.append((x+1, y))\n",
    "        if y > 0:\n",
    "            if map[y-1][x] == h:\n",
    "                next_steps.append((x, y-1))\n",
    "        if y < max_y:\n",
    "            if map[y+1][x] == h:\n",
    "                next_steps.append((x, y+1))\n",
    "\n",
    "    return next_steps"
   ]
  },
  {
   "cell_type": "code",
   "execution_count": 130,
   "metadata": {},
   "outputs": [],
   "source": [
    "def trailhead_distinct_score(coords: tuple, map: List[list]) -> int:\n",
    "    \"\"\"\n",
    "    Calculates the score of a single trailhead.\n",
    "    \"\"\"\n",
    "    coords = {coords}\n",
    "    for i in range(9):\n",
    "        coords = find_next_steps_duplicates(coords, map)\n",
    "    return len(coords)"
   ]
  },
  {
   "cell_type": "code",
   "execution_count": 131,
   "metadata": {},
   "outputs": [],
   "source": [
    "def sum_trailhead_distinct_scores(map: str) -> int:\n",
    "    \"\"\"\n",
    "    Returns the sum of the distinct scores of all the trailheads in a map.\n",
    "    \"\"\"\n",
    "    map = map.split(\"\\n\")\n",
    "    map = [[int(element) for element in row] for row in map]\n",
    "\n",
    "    trailheads = find_trailhead_coordinates(map)\n",
    "\n",
    "    score = 0\n",
    "    for th in trailheads:\n",
    "        score += trailhead_distinct_score(th, map)\n",
    "\n",
    "    return score  "
   ]
  },
  {
   "cell_type": "code",
   "execution_count": 133,
   "metadata": {},
   "outputs": [
    {
     "name": "stdout",
     "output_type": "stream",
     "text": [
      "passed\n"
     ]
    }
   ],
   "source": [
    "test_sum_trailhead_distinct_scores(sum_trailhead_distinct_scores)"
   ]
  },
  {
   "cell_type": "code",
   "execution_count": 134,
   "metadata": {},
   "outputs": [
    {
     "data": {
      "text/plain": [
       "1925"
      ]
     },
     "execution_count": 134,
     "metadata": {},
     "output_type": "execute_result"
    }
   ],
   "source": [
    "sum_trailhead_distinct_scores(input_map)"
   ]
  }
 ],
 "metadata": {
  "kernelspec": {
   "display_name": ".venv",
   "language": "python",
   "name": "python3"
  },
  "language_info": {
   "codemirror_mode": {
    "name": "ipython",
    "version": 3
   },
   "file_extension": ".py",
   "mimetype": "text/x-python",
   "name": "python",
   "nbconvert_exporter": "python",
   "pygments_lexer": "ipython3",
   "version": "3.10.15"
  }
 },
 "nbformat": 4,
 "nbformat_minor": 2
}
