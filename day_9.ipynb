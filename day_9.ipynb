{
 "cells": [
  {
   "cell_type": "code",
   "execution_count": 70,
   "metadata": {},
   "outputs": [],
   "source": [
    "DUMMY_DISK_MAP = '2333133121414131402'"
   ]
  },
  {
   "cell_type": "markdown",
   "metadata": {},
   "source": [
    "## Part 1"
   ]
  },
  {
   "cell_type": "code",
   "execution_count": 71,
   "metadata": {},
   "outputs": [],
   "source": [
    "def test_checksum(func):\n",
    "    expected_output = 1928\n",
    "\n",
    "    function_output = func(DUMMY_DISK_MAP)\n",
    "\n",
    "    if function_output != expected_output:\n",
    "        raise ValueError(\"function does not return correct value\")\n",
    "    else:\n",
    "        print(\"passed\")"
   ]
  },
  {
   "cell_type": "code",
   "execution_count": 72,
   "metadata": {},
   "outputs": [],
   "source": [
    "def expand_diskmap(disk_map: str):\n",
    "    \"\"\"\n",
    "    Expands a diskmap into its full form.\n",
    "    \"\"\"\n",
    "    full_form = []\n",
    "    for i, length in enumerate(disk_map):\n",
    "        if i % 2 == 0:\n",
    "            id = int(i / 2)            \n",
    "            full_form += str(id).split() * int(length)\n",
    "        else:\n",
    "            full_form += [\".\"] * int(length)\n",
    "    \n",
    "    return full_form"
   ]
  },
  {
   "cell_type": "code",
   "execution_count": 73,
   "metadata": {},
   "outputs": [],
   "source": [
    "def move_files_back(full_form: list):\n",
    "    \"\"\"\n",
    "    Moves files from the right side of the full form disk map to the left so that all files come before all empty spaces.\n",
    "    \"\"\"\n",
    "    num_empty = full_form.count(\".\")\n",
    "    num_digits = len(full_form) - num_empty\n",
    "\n",
    "    left = full_form[:num_digits]\n",
    "    right = full_form[num_digits:]\n",
    "    numbers_to_move = [num for num in right[::-1] if num != \".\"]\n",
    "\n",
    "    reordered_form = [num if num != \".\" else numbers_to_move.pop(0) for num in left ] + [\".\"] * num_empty\n",
    "\n",
    "    return reordered_form"
   ]
  },
  {
   "cell_type": "code",
   "execution_count": 74,
   "metadata": {},
   "outputs": [],
   "source": [
    "def checksum(disk_map: str) -> int:\n",
    "    \"\"\"\n",
    "    Calculates the checksum of a diskmap.\n",
    "    \"\"\"\n",
    "    full_form = expand_diskmap(disk_map)\n",
    "    reordered_form = move_files_back(full_form)\n",
    "    reordered_digits = [num for num in reordered_form if num != '.']\n",
    "    result = 0\n",
    "    for i, digit in enumerate(reordered_digits):\n",
    "        result += i * int(digit)\n",
    "    return result"
   ]
  },
  {
   "cell_type": "code",
   "execution_count": 75,
   "metadata": {},
   "outputs": [
    {
     "name": "stdout",
     "output_type": "stream",
     "text": [
      "passed\n"
     ]
    }
   ],
   "source": [
    "test_checksum(checksum)"
   ]
  },
  {
   "cell_type": "code",
   "execution_count": 76,
   "metadata": {},
   "outputs": [],
   "source": [
    "with open('input_9.txt') as file:\n",
    "    disk_map = file.read()"
   ]
  },
  {
   "cell_type": "code",
   "execution_count": 77,
   "metadata": {},
   "outputs": [
    {
     "data": {
      "text/plain": [
       "6225730762521"
      ]
     },
     "execution_count": 77,
     "metadata": {},
     "output_type": "execute_result"
    }
   ],
   "source": [
    "checksum(disk_map)"
   ]
  },
  {
   "cell_type": "markdown",
   "metadata": {},
   "source": [
    "## Part 2"
   ]
  },
  {
   "cell_type": "code",
   "execution_count": 78,
   "metadata": {},
   "outputs": [],
   "source": [
    "def test_new_checksum(func):\n",
    "    expected_output = 2858\n",
    "\n",
    "    function_output = func(DUMMY_DISK_MAP)\n",
    "\n",
    "    if function_output != expected_output:\n",
    "        raise ValueError(\"function does not return correct value\")\n",
    "    else:\n",
    "        print(\"passed\")"
   ]
  },
  {
   "cell_type": "code",
   "execution_count": 79,
   "metadata": {},
   "outputs": [],
   "source": [
    "def move_single_block(digit: int, full_form: list) -> list:\n",
    "    \"\"\"\n",
    "    Moves a single block of numbers in the full form to the leftmost available empty block and returns the resultant list.\n",
    "    \"\"\"\n",
    "    count = full_form.count(digit)\n",
    "    location = full_form.index(digit)\n",
    "\n",
    "    if count == 0 or location == 0:\n",
    "        return full_form\n",
    "\n",
    "    empty_size = 0\n",
    "    for i in range(location):\n",
    "        if full_form[i] == \".\":\n",
    "            empty_size += 1\n",
    "            if empty_size == count:\n",
    "                full_form[i - count + 1: i + 1] = [digit] * count\n",
    "                full_form[location: location + count] = [\".\"] * count\n",
    "                return full_form\n",
    "        else:\n",
    "            empty_size = 0\n",
    "        \n",
    "    return full_form\n",
    "\n"
   ]
  },
  {
   "cell_type": "code",
   "execution_count": 80,
   "metadata": {},
   "outputs": [],
   "source": [
    "def new_checksum(disk_map: str) -> int:\n",
    "    \"\"\"\n",
    "    Calculates the checksum of a diskmap moving blocks instead of individual ids.\n",
    "    \"\"\"\n",
    "    full_form = expand_diskmap(disk_map)\n",
    "    max_id = len(disk_map) // 2 + 1\n",
    "\n",
    "    for id in reversed(range(max_id)):\n",
    "        full_form = move_single_block(str(id), full_form)\n",
    "    \n",
    "    result = 0\n",
    "    for i, digit in enumerate(full_form):\n",
    "        if digit == \".\":\n",
    "            continue\n",
    "        result += i * int(digit)\n",
    "\n",
    "    return result"
   ]
  },
  {
   "cell_type": "code",
   "execution_count": 82,
   "metadata": {},
   "outputs": [
    {
     "name": "stdout",
     "output_type": "stream",
     "text": [
      "passed\n"
     ]
    }
   ],
   "source": [
    "test_new_checksum(new_checksum)"
   ]
  },
  {
   "cell_type": "code",
   "execution_count": 83,
   "metadata": {},
   "outputs": [
    {
     "data": {
      "text/plain": [
       "6250605700557"
      ]
     },
     "execution_count": 83,
     "metadata": {},
     "output_type": "execute_result"
    }
   ],
   "source": [
    "new_checksum(disk_map)"
   ]
  }
 ],
 "metadata": {
  "kernelspec": {
   "display_name": ".venv",
   "language": "python",
   "name": "python3"
  },
  "language_info": {
   "codemirror_mode": {
    "name": "ipython",
    "version": 3
   },
   "file_extension": ".py",
   "mimetype": "text/x-python",
   "name": "python",
   "nbconvert_exporter": "python",
   "pygments_lexer": "ipython3",
   "version": "3.10.15"
  }
 },
 "nbformat": 4,
 "nbformat_minor": 2
}
