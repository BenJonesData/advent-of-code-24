{
 "cells": [
  {
   "cell_type": "code",
   "execution_count": 16,
   "metadata": {},
   "outputs": [],
   "source": [
    "from typing import List\n",
    "import string\n",
    "from math import gcd"
   ]
  },
  {
   "cell_type": "code",
   "execution_count": 17,
   "metadata": {},
   "outputs": [],
   "source": [
    "DUMMY_MAP = \"\"\"............\n",
    "........0...\n",
    ".....0......\n",
    ".......0....\n",
    "....0.......\n",
    "......A.....\n",
    "............\n",
    "............\n",
    "........A...\n",
    ".........A..\n",
    "............\n",
    "............\"\"\"\n",
    "\n",
    "CHARS = list(string.ascii_letters) + list(string.digits)"
   ]
  },
  {
   "cell_type": "markdown",
   "metadata": {},
   "source": [
    "## Part 1"
   ]
  },
  {
   "cell_type": "code",
   "execution_count": 18,
   "metadata": {},
   "outputs": [],
   "source": [
    "def test_count_antinodes(func):\n",
    "    expected_output = 14\n",
    "\n",
    "    function_output = func(DUMMY_MAP)\n",
    "\n",
    "    if function_output != expected_output:\n",
    "        raise ValueError(\"function does not return correct value\")\n",
    "    else:\n",
    "        print(\"passed\")"
   ]
  },
  {
   "cell_type": "code",
   "execution_count": 19,
   "metadata": {},
   "outputs": [],
   "source": [
    "def get_coords(map: List[list], char: str) -> List[tuple]:\n",
    "    \"\"\"\n",
    "    Returns a list of coordinates that contain the specified character\n",
    "    \"\"\"\n",
    "    map_height = len(map)\n",
    "    map_width = len(map[0])\n",
    "\n",
    "    coords = []\n",
    "    for row in range(map_height):\n",
    "        for col in range(map_width):\n",
    "            if map[row][col] == char:\n",
    "                coords.append((row, col))\n",
    "    \n",
    "    return coords"
   ]
  },
  {
   "cell_type": "code",
   "execution_count": 20,
   "metadata": {},
   "outputs": [],
   "source": [
    "def get_antinodes(coords: List[tuple], map_height: int, map_width: int) -> List[tuple]:\n",
    "    \"\"\"\n",
    "    Calculates the antinodes from a given set of coordinates. Discards antinodes outside the map.\n",
    "    \"\"\"\n",
    "    if len(coords) < 2:\n",
    "        return []\n",
    "    \n",
    "    antinodes = []\n",
    "    for idx, node1 in enumerate(coords[:-1]):\n",
    "        for node2 in coords[idx+1:]:\n",
    "            row_diff = node1[0] - node2[0]\n",
    "            col_diff = node1[1] - node2[1]\n",
    "\n",
    "            antinode_1 = (node1[0] + row_diff, node1[1] + col_diff)\n",
    "            if  (0 <= antinode_1[0] < map_height) & (0 <= antinode_1[1] < map_width):\n",
    "                antinodes.append(antinode_1)\n",
    "            \n",
    "            antinode_2 = (node2[0] - row_diff, node2[1] - col_diff)\n",
    "            if  (0 <= antinode_2[0] < map_height) & (0 <= antinode_2[1] < map_width):\n",
    "                antinodes.append(antinode_2)\n",
    "\n",
    "    return antinodes\n"
   ]
  },
  {
   "cell_type": "code",
   "execution_count": 21,
   "metadata": {},
   "outputs": [],
   "source": [
    "def count_antinodes(map: str) -> int:\n",
    "    \"\"\"\n",
    "    Counts the number of unique locations that include an antinode.\n",
    "    \"\"\"\n",
    "    map = map.split(\"\\n\")\n",
    "    map = [list(row) for row in map]\n",
    "    map_height = len(map)\n",
    "    map_width = len(map[0])\n",
    "\n",
    "    antinodes = []\n",
    "    for char in CHARS:\n",
    "        coords = get_coords(map, char)\n",
    "        antinodes += get_antinodes(coords, map_height, map_width)\n",
    "            \n",
    "    return len(set(antinodes))"
   ]
  },
  {
   "cell_type": "code",
   "execution_count": 22,
   "metadata": {},
   "outputs": [
    {
     "name": "stdout",
     "output_type": "stream",
     "text": [
      "passed\n"
     ]
    }
   ],
   "source": [
    "test_count_antinodes(count_antinodes)"
   ]
  },
  {
   "cell_type": "code",
   "execution_count": 23,
   "metadata": {},
   "outputs": [],
   "source": [
    "with open(\"input_8.txt\") as file:\n",
    "    map = file.read()"
   ]
  },
  {
   "cell_type": "code",
   "execution_count": 24,
   "metadata": {},
   "outputs": [
    {
     "data": {
      "text/plain": [
       "303"
      ]
     },
     "execution_count": 24,
     "metadata": {},
     "output_type": "execute_result"
    }
   ],
   "source": [
    "count_antinodes(map)"
   ]
  },
  {
   "cell_type": "markdown",
   "metadata": {},
   "source": [
    "## Part 2"
   ]
  },
  {
   "cell_type": "code",
   "execution_count": 25,
   "metadata": {},
   "outputs": [],
   "source": [
    "def test_count_antinodes_with_harmonics(func):\n",
    "    expected_output = 34\n",
    "\n",
    "    function_output = func(DUMMY_MAP)\n",
    "\n",
    "    if function_output != expected_output:\n",
    "        raise ValueError(\"function does not return correct value\")\n",
    "    else:\n",
    "        print(\"passed\")"
   ]
  },
  {
   "cell_type": "code",
   "execution_count": 26,
   "metadata": {},
   "outputs": [],
   "source": [
    "def get_single_antinodes_set(node1: tuple, node2: tuple, map_height: int, map_width: int) -> List[tuple]:\n",
    "    \"\"\"\n",
    "    Gets the antinodes associated with one pair of nodes taking harmonics into account. Discards antinodes outside the map.\n",
    "    \"\"\"\n",
    "    delta_x = node2[1] - node1[1]\n",
    "    delta_y = node2[0] - node1[0]\n",
    "    # avoid division by zero on vertical lines\n",
    "    if delta_x == 0:\n",
    "        return [(y, node1[1]) for y in range(map_height)]\n",
    "    \n",
    "    gradient = delta_y / delta_x\n",
    "    intercept = node2[0] - (gradient * node2[1])\n",
    "\n",
    "    antinodes = []\n",
    "\n",
    "    for x in range(map_width):\n",
    "        y = round(gradient * x + intercept, 3) # round to 3 dp here to correct any python float arithmetic error\n",
    "        if y.is_integer() and (0 <= y < map_height): \n",
    "            antinodes.append((int(y), int(x)))\n",
    "\n",
    "    return antinodes"
   ]
  },
  {
   "cell_type": "code",
   "execution_count": 27,
   "metadata": {},
   "outputs": [],
   "source": [
    "def get_antinodes_with_harmonics(coords: List[tuple], map_height: int, map_width: int) -> List[tuple]:\n",
    "    \"\"\"\n",
    "    Calculates the antinodes from a given set of coordinates taking harmonics into account. Discards antinodes outside the map.\n",
    "    \"\"\"\n",
    "    if len(coords) < 2:\n",
    "        return []\n",
    "    \n",
    "    antinodes = []\n",
    "    for idx, node1 in enumerate(coords[:-1]):\n",
    "        for node2 in coords[idx+1:]: \n",
    "            antinodes += get_single_antinodes_set(node1, node2, map_height, map_width)\n",
    "\n",
    "    return antinodes"
   ]
  },
  {
   "cell_type": "code",
   "execution_count": 28,
   "metadata": {},
   "outputs": [],
   "source": [
    "def count_antinodes_with_harmonics(map: str) -> int:\n",
    "    \"\"\"\n",
    "    Counts the number of unique locations that include an antinode.\n",
    "    \"\"\"\n",
    "    map = map.split(\"\\n\")\n",
    "    map = [list(row) for row in map]\n",
    "    map_height = len(map)\n",
    "    map_width = len(map[0])\n",
    "\n",
    "    antinodes = []\n",
    "    for char in CHARS:\n",
    "        coords = get_coords(map, char)\n",
    "        antinodes += get_antinodes_with_harmonics(coords, map_height, map_width)\n",
    "\n",
    "    return len(set(antinodes))"
   ]
  },
  {
   "cell_type": "code",
   "execution_count": 29,
   "metadata": {},
   "outputs": [
    {
     "name": "stdout",
     "output_type": "stream",
     "text": [
      "passed\n"
     ]
    }
   ],
   "source": [
    "test_count_antinodes_with_harmonics(count_antinodes_with_harmonics)"
   ]
  },
  {
   "cell_type": "code",
   "execution_count": 30,
   "metadata": {},
   "outputs": [
    {
     "data": {
      "text/plain": [
       "1045"
      ]
     },
     "execution_count": 30,
     "metadata": {},
     "output_type": "execute_result"
    }
   ],
   "source": [
    "count_antinodes_with_harmonics(map)"
   ]
  }
 ],
 "metadata": {
  "kernelspec": {
   "display_name": ".venv",
   "language": "python",
   "name": "python3"
  },
  "language_info": {
   "codemirror_mode": {
    "name": "ipython",
    "version": 3
   },
   "file_extension": ".py",
   "mimetype": "text/x-python",
   "name": "python",
   "nbconvert_exporter": "python",
   "pygments_lexer": "ipython3",
   "version": "3.10.15"
  }
 },
 "nbformat": 4,
 "nbformat_minor": 2
}
