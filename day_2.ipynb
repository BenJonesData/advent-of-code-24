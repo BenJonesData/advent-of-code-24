{
 "cells": [
  {
   "cell_type": "code",
   "execution_count": null,
   "metadata": {},
   "outputs": [],
   "source": [
    "from typing import List\n",
    "import os"
   ]
  },
  {
   "cell_type": "code",
   "execution_count": 2,
   "metadata": {},
   "outputs": [],
   "source": [
    "DUMMY_REPORTS = [\n",
    "        [7, 6, 4, 2, 1],\n",
    "        [1, 2, 7, 8, 9],\n",
    "        [9, 7, 6, 2, 1],\n",
    "        [1, 3, 2, 4, 5],\n",
    "        [8, 6, 4, 4, 1],\n",
    "        [1, 3, 6, 7, 9]\n",
    "        ]"
   ]
  },
  {
   "cell_type": "code",
   "execution_count": null,
   "metadata": {},
   "outputs": [],
   "source": [
    "## Part 1"
   ]
  },
  {
   "cell_type": "code",
   "execution_count": 3,
   "metadata": {},
   "outputs": [],
   "source": [
    "def test_parser(func):\n",
    "    dummy_text = \"1 2 3\\n0 8\"\n",
    "    expected_output = [[1, 2, 3], [0, 8]]\n",
    "\n",
    "    with open('test.txt', 'w') as file:\n",
    "        file.write(dummy_text)\n",
    "\n",
    "    parser_output = func('test.txt')\n",
    "\n",
    "    if parser_output != expected_output:\n",
    "        raise ValueError(\"file not parsed correctly\")\n",
    "    else:\n",
    "        print(\"passed\")\n",
    "\n",
    "    os.remove('test.txt')\n"
   ]
  },
  {
   "cell_type": "code",
   "execution_count": null,
   "metadata": {},
   "outputs": [],
   "source": [
    "def test_safe_counter(func):\n",
    "    # the first and sixth reports are safe\n",
    "    expected_output = 2\n",
    "\n",
    "    function_output = func(DUMMY_REPORTS)\n",
    "\n",
    "    if function_output != expected_output:\n",
    "        raise ValueError(\"function does not return correct value\")\n",
    "    else:\n",
    "        print(\"passed\")"
   ]
  },
  {
   "cell_type": "code",
   "execution_count": 5,
   "metadata": {},
   "outputs": [],
   "source": [
    "def parser(path: str) -> List[list]:\n",
    "    \"\"\"\n",
    "    Reads the data text file and convers to a list of lists\n",
    "    \"\"\"\n",
    "    output = []\n",
    "    with open(path) as file:\n",
    "        for line in file:\n",
    "            numbers = [int(num) for num in line.split()]\n",
    "            output.append(numbers)\n",
    "\n",
    "    return output"
   ]
  },
  {
   "cell_type": "code",
   "execution_count": 6,
   "metadata": {},
   "outputs": [
    {
     "name": "stdout",
     "output_type": "stream",
     "text": [
      "passed\n"
     ]
    }
   ],
   "source": [
    "test_parser(parser)"
   ]
  },
  {
   "cell_type": "code",
   "execution_count": 7,
   "metadata": {},
   "outputs": [],
   "source": [
    "def is_unsafe(report: list) -> bool:\n",
    "    \"\"\"\n",
    "    Takes in a single report, returns 1 if it contains an error and 0 otherwise.\n",
    "    \"\"\"\n",
    "    if len(report) == 1: \n",
    "        return 0 # errors not possible in a report of one number\n",
    "\n",
    "    # initialise the parity\n",
    "    parity = 1 if report[1] - report[0] > 0 else -1 # this is the parity all other differences should have\n",
    "\n",
    "    for i in range(1, len(report)):\n",
    "        # multiplying the difference with a parity gives a the absolute value only if the parities match, otherwise the result is negative\n",
    "        # also, the absolute difference should be between 1 and 3 \n",
    "        if not(0 < (report[i] - report[i-1]) * parity <= 3):\n",
    "            return 1\n",
    "    \n",
    "    return 0"
   ]
  },
  {
   "cell_type": "code",
   "execution_count": 8,
   "metadata": {},
   "outputs": [],
   "source": [
    "def safe_counter(reports: List[list]):\n",
    "    unsafe_count = 0\n",
    "    for report in reports:\n",
    "        unsafe_count += is_unsafe(report)\n",
    "\n",
    "    return len(reports) - unsafe_count"
   ]
  },
  {
   "cell_type": "code",
   "execution_count": 9,
   "metadata": {},
   "outputs": [
    {
     "name": "stdout",
     "output_type": "stream",
     "text": [
      "passed\n"
     ]
    }
   ],
   "source": [
    "test_safe_counter(safe_counter)"
   ]
  },
  {
   "cell_type": "code",
   "execution_count": 10,
   "metadata": {},
   "outputs": [],
   "source": [
    "reports = parser('input_2.txt')"
   ]
  },
  {
   "cell_type": "code",
   "execution_count": 11,
   "metadata": {},
   "outputs": [
    {
     "data": {
      "text/plain": [
       "314"
      ]
     },
     "execution_count": 11,
     "metadata": {},
     "output_type": "execute_result"
    }
   ],
   "source": [
    "safe_counter(reports)"
   ]
  },
  {
   "cell_type": "markdown",
   "metadata": {},
   "source": [
    "## Part 2"
   ]
  },
  {
   "cell_type": "code",
   "execution_count": 12,
   "metadata": {},
   "outputs": [],
   "source": [
    "def test_safe_counter_dampened(func):\n",
    "    # the first and sixth reports are safe\n",
    "    expected_output = 4\n",
    "\n",
    "    function_output = func(DUMMY_REPORTS)\n",
    "\n",
    "    if function_output != expected_output:\n",
    "        raise ValueError(\"function does not return correct value\")\n",
    "    else:\n",
    "        print(\"passed\")"
   ]
  },
  {
   "cell_type": "code",
   "execution_count": 38,
   "metadata": {},
   "outputs": [],
   "source": [
    "def is_unsafe_dampened(report: list) -> bool:\n",
    "    \"\"\"\n",
    "    Takes in a single report, returns 1 if it contains an error after dampening and 0 otherwise.\n",
    "    \"\"\"\n",
    "    if len(report) == 1: \n",
    "        return 0 # errors not possible in a report of one number\n",
    "\n",
    "    # initialise the parity\n",
    "    parity = 1 if report[1] - report[0] > 0 else -1 # this is the parity all other differences should have\n",
    "\n",
    "    for i in range(1, len(report)):\n",
    "        # multiplying the difference with a parity gives a the absolute value only if the parities match, otherwise the result is negative\n",
    "        # also, the absolute difference should be between 1 and 3 \n",
    "        if not(0 < (report[i] - report[i-1]) * parity <= 3):\n",
    "            result_1 = is_unsafe(report[:i-1] + report[i:]) # try original with element i-1 removed\n",
    "            result_2 = is_unsafe(report[:i] + report[i+1:]) # try original with element i removed\n",
    "            result = min(result_1, result_2)\n",
    "            \n",
    "            if i == 2: # an issue on the second difference may indicate that the first element is incorrect\n",
    "                result = min(result, is_unsafe(report[1:]))\n",
    "\n",
    "            return result\n",
    "    \n",
    "    return 0"
   ]
  },
  {
   "cell_type": "code",
   "execution_count": 40,
   "metadata": {},
   "outputs": [],
   "source": [
    "def safe_counter_dampened(reports: List[list]):\n",
    "    unsafe_count = 0\n",
    "    for report in reports:\n",
    "        unsafe_count += is_unsafe_dampened(report)\n",
    "\n",
    "    return len(reports) - unsafe_count"
   ]
  },
  {
   "cell_type": "code",
   "execution_count": 41,
   "metadata": {},
   "outputs": [
    {
     "name": "stdout",
     "output_type": "stream",
     "text": [
      "passed\n"
     ]
    }
   ],
   "source": [
    "test_safe_counter_dampened(safe_counter_dampened)"
   ]
  },
  {
   "cell_type": "code",
   "execution_count": 42,
   "metadata": {},
   "outputs": [
    {
     "data": {
      "text/plain": [
       "373"
      ]
     },
     "execution_count": 42,
     "metadata": {},
     "output_type": "execute_result"
    }
   ],
   "source": [
    "safe_counter_dampened(reports)"
   ]
  }
 ],
 "metadata": {
  "kernelspec": {
   "display_name": ".venv",
   "language": "python",
   "name": "python3"
  },
  "language_info": {
   "codemirror_mode": {
    "name": "ipython",
    "version": 3
   },
   "file_extension": ".py",
   "mimetype": "text/x-python",
   "name": "python",
   "nbconvert_exporter": "python",
   "pygments_lexer": "ipython3",
   "version": "3.10.15"
  }
 },
 "nbformat": 4,
 "nbformat_minor": 2
}
