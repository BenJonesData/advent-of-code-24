{
 "cells": [
  {
   "cell_type": "code",
   "execution_count": 7,
   "metadata": {},
   "outputs": [],
   "source": [
    "DUMMY_STRING_1 = \"xmul(2,4)%&mul[3,7]!@^do_not_mul(5,5)+mul(32,64]then(mul(11,8)mul(8,5))\"\n",
    "DUMMY_STRING_2 = \"xmul(2,4)&mul[3,7]!^don't()_mul(5,5)+mul(32,64](mul(11,8)undo()?mul(8,5))\""
   ]
  },
  {
   "cell_type": "markdown",
   "metadata": {},
   "source": [
    "## Part 1"
   ]
  },
  {
   "cell_type": "code",
   "execution_count": 2,
   "metadata": {},
   "outputs": [],
   "source": [
    "def test_sum_valid_operations(func):\n",
    "    expected_output = 161\n",
    "\n",
    "    function_output = func(DUMMY_STRING_1)\n",
    "\n",
    "    if function_output != expected_output:\n",
    "        raise ValueError(\"function does not return correct value\")\n",
    "    else:\n",
    "        print(\"passed\")"
   ]
  },
  {
   "cell_type": "code",
   "execution_count": null,
   "metadata": {},
   "outputs": [],
   "source": [
    "def sum_valid_operations(string: str) -> int:\n",
    "    \"\"\"\n",
    "    Isolates and executes valid operations found in a given string and returns the sum of the results.\n",
    "    \"\"\"\n",
    "    substrings = string.split(\"mul(\")\n",
    "    substrings = [substr for substr in substrings if \",\" in substr]\n",
    "\n",
    "    pairs = [substr.split(\",\", 1) for substr in substrings]\n",
    "    pairs = [pair for pair in pairs if (pair[0].isdigit()) and (\")\" in pair[1])]\n",
    "\n",
    "    total = 0\n",
    "    for pair in pairs:\n",
    "        num_1 = pair[0]\n",
    "        num_2 = pair[1].split(\")\")[0] # split second element of each pair on \")\" and obtain the first part\n",
    "        if num_2.isdigit():\n",
    "            total += int(num_1) * int(num_2)\n",
    "    \n",
    "    return total "
   ]
  },
  {
   "cell_type": "code",
   "execution_count": 4,
   "metadata": {},
   "outputs": [
    {
     "name": "stdout",
     "output_type": "stream",
     "text": [
      "passed\n"
     ]
    }
   ],
   "source": [
    "test_sum_valid_operations(sum_valid_operations)"
   ]
  },
  {
   "cell_type": "code",
   "execution_count": 5,
   "metadata": {},
   "outputs": [],
   "source": [
    "with open('input_3.txt') as file:\n",
    "    memory = file.read()"
   ]
  },
  {
   "cell_type": "code",
   "execution_count": 6,
   "metadata": {},
   "outputs": [
    {
     "data": {
      "text/plain": [
       "153469856"
      ]
     },
     "execution_count": 6,
     "metadata": {},
     "output_type": "execute_result"
    }
   ],
   "source": [
    "sum_valid_operations(memory)"
   ]
  },
  {
   "cell_type": "markdown",
   "metadata": {},
   "source": [
    "## Part 2"
   ]
  },
  {
   "cell_type": "code",
   "execution_count": 11,
   "metadata": {},
   "outputs": [],
   "source": [
    "def test_sum_conditional_operations(func):\n",
    "    expected_output = 48\n",
    "\n",
    "    function_output = func(DUMMY_STRING_2)\n",
    "\n",
    "    if function_output != expected_output:\n",
    "        raise ValueError(\"function does not return correct value\")\n",
    "    else:\n",
    "        print(\"passed\")"
   ]
  },
  {
   "cell_type": "code",
   "execution_count": 18,
   "metadata": {},
   "outputs": [],
   "source": [
    "def sum_conditional_operations(string: str) -> int:\n",
    "    \"\"\"\n",
    "    Isolates and executes valid operations (using conditions) found in a given string and returns the sum of the results.\n",
    "    \"\"\"\n",
    "    substrings = string.split(\"do()\")\n",
    "    substrings_filtered = [substr.split(\"don't()\")[0] for substr in substrings]\n",
    "    new_string = \"\".join(substrings_filtered)\n",
    "\n",
    "    return sum_valid_operations(new_string)"
   ]
  },
  {
   "cell_type": "code",
   "execution_count": 19,
   "metadata": {},
   "outputs": [
    {
     "name": "stdout",
     "output_type": "stream",
     "text": [
      "passed\n"
     ]
    }
   ],
   "source": [
    "test_sum_conditional_operations(sum_conditional_operations)"
   ]
  },
  {
   "cell_type": "code",
   "execution_count": 20,
   "metadata": {},
   "outputs": [
    {
     "data": {
      "text/plain": [
       "77055967"
      ]
     },
     "execution_count": 20,
     "metadata": {},
     "output_type": "execute_result"
    }
   ],
   "source": [
    "sum_conditional_operations(memory)"
   ]
  }
 ],
 "metadata": {
  "kernelspec": {
   "display_name": ".venv",
   "language": "python",
   "name": "python3"
  },
  "language_info": {
   "codemirror_mode": {
    "name": "ipython",
    "version": 3
   },
   "file_extension": ".py",
   "mimetype": "text/x-python",
   "name": "python",
   "nbconvert_exporter": "python",
   "pygments_lexer": "ipython3",
   "version": "3.10.15"
  }
 },
 "nbformat": 4,
 "nbformat_minor": 2
}
