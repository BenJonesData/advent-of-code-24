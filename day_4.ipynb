{
 "cells": [
  {
   "cell_type": "code",
   "execution_count": 1,
   "metadata": {},
   "outputs": [],
   "source": [
    "from typing import List\n",
    "import os"
   ]
  },
  {
   "cell_type": "code",
   "execution_count": 2,
   "metadata": {},
   "outputs": [],
   "source": [
    "DUMMY_WORDSEARCH = \"MMMSXXMASM\\nMSAMXMSMSA\\nAMXSXMAAMM\\nMSAMASMSMX\\nXMASAMXAMM\\nXXAMMXXAMA\\nSMSMSASXSS\\nSAXAMASAAA\\nMAMMMXMMMM\\nMXMXAXMASX\""
   ]
  },
  {
   "cell_type": "markdown",
   "metadata": {},
   "source": [
    "## Part 1"
   ]
  },
  {
   "cell_type": "code",
   "execution_count": 3,
   "metadata": {},
   "outputs": [],
   "source": [
    "def test_word_searcher(func):\n",
    "    # the word xmas appears 18 times in valid formats\n",
    "    expected_output = 18\n",
    "\n",
    "    function_output = func(DUMMY_WORDSEARCH, \"XMAS\")\n",
    "\n",
    "    if function_output != expected_output:\n",
    "        raise ValueError(\"function does not return correct value\")\n",
    "    else:\n",
    "        print(\"passed\")\n"
   ]
  },
  {
   "cell_type": "code",
   "execution_count": 4,
   "metadata": {},
   "outputs": [],
   "source": [
    "def test_word_counter(func):\n",
    "    dummy_input = \"ababccabc\"\n",
    "    expected_output = 2\n",
    "\n",
    "    function_output = func(dummy_input, \"abc\")\n",
    "\n",
    "    if function_output != expected_output:\n",
    "        raise ValueError(\"function does not return correct value\")\n",
    "    else:\n",
    "        print(\"passed\")"
   ]
  },
  {
   "cell_type": "code",
   "execution_count": 5,
   "metadata": {},
   "outputs": [],
   "source": [
    "def word_counter(string: str, keyword: str) -> int:\n",
    "    \"\"\"\n",
    "    Counts how many times a keyword occurs in a string in one direction.\n",
    "    \"\"\"\n",
    "    if keyword not in string:\n",
    "        return 0\n",
    "    \n",
    "    return len(string.split(keyword)) - 1 # splitting a string on another string obtains n+1 splits\n",
    "    "
   ]
  },
  {
   "cell_type": "code",
   "execution_count": 6,
   "metadata": {},
   "outputs": [
    {
     "name": "stdout",
     "output_type": "stream",
     "text": [
      "passed\n"
     ]
    }
   ],
   "source": [
    "test_word_counter(word_counter)"
   ]
  },
  {
   "cell_type": "code",
   "execution_count": null,
   "metadata": {},
   "outputs": [],
   "source": [
    "def get_strings(string: str, min_length:int) -> List[str]:\n",
    "    \"\"\"\n",
    "    Gets all possible linear strings from a wordsearch grid.\n",
    "    \"\"\"\n",
    "    # get a list of all rows \n",
    "    rows = string.split(\"\\n\")\n",
    "    num_rows = len(rows)\n",
    "    num_cols = len(rows[0])\n",
    "\n",
    "    if not all(len(row) == num_cols for row in rows):\n",
    "        raise ValueError(\"rows are not of equal lengths\")\n",
    "    \n",
    "    # get a list of all columns\n",
    "    cols = [''.join(column) for column in zip(*rows)]\n",
    "\n",
    "    # get a list of all diagnals\n",
    "    diagonals = []\n",
    "\n",
    "    # note: diagonal lines are characterised by the difference between column and row number \n",
    "    min_diff = -(num_rows - min_length)\n",
    "    max_diff = num_cols - min_length\n",
    "\n",
    "    for diff in range(min_diff, max_diff + 1):\n",
    "        down_diag = []\n",
    "        up_diag = []\n",
    "\n",
    "        for col_num in range(max(diff, 0), min(num_rows + diff, num_cols)):\n",
    "            row_num = col_num - diff\n",
    "            down_diag.append(rows[row_num][col_num])\n",
    "            up_diag.append(rows[row_num][num_cols - col_num - 1])\n",
    "\n",
    "        diagonals.append(\"\".join(down_diag))  \n",
    "        diagonals.append(\"\".join(up_diag))  \n",
    "        \n",
    "    return rows + cols + diagonals"
   ]
  },
  {
   "cell_type": "code",
   "execution_count": null,
   "metadata": {},
   "outputs": [],
   "source": [
    "def word_searcher(wordsearch: str, keyword) -> int:\n",
    "    \"\"\"\n",
    "    Takes a wordsearch grid and returns the number of times a keyword occurs in a valid format.\n",
    "    \"\"\"\n",
    "\n",
    "    strings_to_check = get_strings(wordsearch, len(keyword))\n",
    "\n",
    "    count = 0\n",
    "    for string in strings_to_check:\n",
    "        count += word_counter(string, keyword)\n",
    "        count += word_counter(string, keyword[::-1])\n",
    "\n",
    "    return count"
   ]
  },
  {
   "cell_type": "code",
   "execution_count": 9,
   "metadata": {},
   "outputs": [
    {
     "name": "stdout",
     "output_type": "stream",
     "text": [
      "passed\n"
     ]
    }
   ],
   "source": [
    "test_word_searcher(word_searcher)"
   ]
  },
  {
   "cell_type": "code",
   "execution_count": 10,
   "metadata": {},
   "outputs": [],
   "source": [
    "with open('input_4.txt') as file:\n",
    "    wordsearch = file.read()  "
   ]
  },
  {
   "cell_type": "code",
   "execution_count": 11,
   "metadata": {},
   "outputs": [
    {
     "data": {
      "text/plain": [
       "2507"
      ]
     },
     "execution_count": 11,
     "metadata": {},
     "output_type": "execute_result"
    }
   ],
   "source": [
    "word_searcher(wordsearch, \"XMAS\")"
   ]
  },
  {
   "cell_type": "markdown",
   "metadata": {},
   "source": [
    "## Part 2"
   ]
  },
  {
   "cell_type": "code",
   "execution_count": 12,
   "metadata": {},
   "outputs": [],
   "source": [
    "def test_X_word_searcher(func):\n",
    "    # the word mas occurs in an x 9 times\n",
    "    expected_output = 9\n",
    "\n",
    "    function_output = func(DUMMY_WORDSEARCH, \"MAS\")\n",
    "\n",
    "    if function_output != expected_output:\n",
    "        raise ValueError(\"function does not return correct value\")\n",
    "    else:\n",
    "        print(\"passed\")"
   ]
  },
  {
   "cell_type": "code",
   "execution_count": 13,
   "metadata": {},
   "outputs": [],
   "source": [
    "def test_find_word_centers(func):\n",
    "    dummy_input = \"MMMASABCMASMASABCMASABC\"\n",
    "    expected_output = [3, 9, 12, 18]\n",
    "\n",
    "    function_output = func(dummy_input, \"MAS\")\n",
    "\n",
    "    if function_output != expected_output:\n",
    "        raise ValueError(\"function does not return correct value\")\n",
    "    else:\n",
    "        print(\"passed\")"
   ]
  },
  {
   "cell_type": "code",
   "execution_count": 14,
   "metadata": {},
   "outputs": [],
   "source": [
    "def find_word_centers(string: str, keyword: str) -> List[int]:\n",
    "    \"\"\"\n",
    "    Obtains the center positions (zero indexed) of keywords in string if they exist in that string\n",
    "    \"\"\"\n",
    "    if len(keyword) % 2 == 0:\n",
    "        raise ValueError(\"key word must have an odd number of letters\")\n",
    "\n",
    "    if keyword not in string:\n",
    "        return []\n",
    "    \n",
    "    centers = []\n",
    "    for substr in string.split(keyword)[:-1]:\n",
    "        if len(centers) > 0:\n",
    "            letters_so_far = 1 + centers[-1] + (len(keyword) // 2)\n",
    "        else:\n",
    "            letters_so_far = 0\n",
    "        centers.append(letters_so_far + len(substr) +  (len(keyword) // 2)) \n",
    "        # note: we add one to account for the middle letter and subtract one to account for zero-indeximg\n",
    "    return centers\n"
   ]
  },
  {
   "cell_type": "code",
   "execution_count": 15,
   "metadata": {},
   "outputs": [
    {
     "name": "stdout",
     "output_type": "stream",
     "text": [
      "passed\n"
     ]
    }
   ],
   "source": [
    "test_find_word_centers(find_word_centers)"
   ]
  },
  {
   "cell_type": "code",
   "execution_count": 78,
   "metadata": {},
   "outputs": [],
   "source": [
    "def X_word_searcher(wordsearch: str, keyword: str) -> int: \n",
    "    \"\"\"\n",
    "    Takes a wordsearch grid and returns the number of times a keyword occurs in an X shape.\n",
    "    \"\"\"\n",
    "    # get a list of all rows \n",
    "    rows = wordsearch.split(\"\\n\")\n",
    "    num_rows = len(rows)\n",
    "    num_cols = len(rows[0])\n",
    "\n",
    "    if not all(len(row) == num_cols for row in rows):\n",
    "        raise ValueError(\"rows are not of equal lengths\")\n",
    "\n",
    "    # initialise a list of coordinates for the centers of upwards and downward matches\n",
    "    all_up_centers = []\n",
    "    all_down_centers = []\n",
    "\n",
    "    # note: diagonal lines are characterised by the difference between column and row number\n",
    "    min_length = len(keyword)\n",
    "    min_diff = -(num_rows - min_length)\n",
    "    max_diff = num_cols - min_length\n",
    "\n",
    "    for diff in range(min_diff, max_diff + 1):\n",
    "        down_diag = []\n",
    "        up_diag = []\n",
    "\n",
    "        for col_num in range(max(diff, 0), min(num_rows + diff, num_cols)):\n",
    "            row_num = col_num - diff\n",
    "            down_diag.append(rows[row_num][col_num])\n",
    "            up_diag.append(rows[row_num][num_cols - col_num - 1])\n",
    "        \n",
    "        # make a string for each down diagonal and save the center coordinates of each keyword match (and reversed)\n",
    "        # this should match up with the center of an up diagonal word to form an X\n",
    "        down_diag = \"\".join(down_diag)\n",
    "        down_centers = find_word_centers(down_diag, keyword) + find_word_centers(down_diag, keyword[::-1])\n",
    "        down_centers = [(center + max(diff, 0), center - min(diff, 0)) for center in down_centers] # convert linear position to coordinates in the grid\n",
    "        all_down_centers += down_centers\n",
    "\n",
    "        up_diag = \"\".join(up_diag)\n",
    "        up_centers = find_word_centers(up_diag, keyword) + find_word_centers(up_diag, keyword[::-1])\n",
    "        up_centers = [(num_cols - center - max(diff, 0) - 1, center - min(diff, 0)) for center in up_centers]\n",
    "        all_up_centers += up_centers\n",
    "\n",
    "    all_up_centers = set(all_up_centers)\n",
    "    all_down_centers = set(all_down_centers)\n",
    "\n",
    "    # take only centers that are shared by an up and down diagonal i.e. form an X\n",
    "    matching_centers = all_up_centers & all_down_centers\n",
    "\n",
    "    return len(matching_centers)"
   ]
  },
  {
   "cell_type": "code",
   "execution_count": 79,
   "metadata": {},
   "outputs": [
    {
     "name": "stdout",
     "output_type": "stream",
     "text": [
      "passed\n"
     ]
    }
   ],
   "source": [
    "test_X_word_searcher(X_word_searcher)"
   ]
  },
  {
   "cell_type": "code",
   "execution_count": 81,
   "metadata": {},
   "outputs": [
    {
     "data": {
      "text/plain": [
       "1969"
      ]
     },
     "execution_count": 81,
     "metadata": {},
     "output_type": "execute_result"
    }
   ],
   "source": [
    "X_word_searcher(wordsearch, \"MAS\")"
   ]
  }
 ],
 "metadata": {
  "kernelspec": {
   "display_name": ".venv",
   "language": "python",
   "name": "python3"
  },
  "language_info": {
   "codemirror_mode": {
    "name": "ipython",
    "version": 3
   },
   "file_extension": ".py",
   "mimetype": "text/x-python",
   "name": "python",
   "nbconvert_exporter": "python",
   "pygments_lexer": "ipython3",
   "version": "3.10.15"
  }
 },
 "nbformat": 4,
 "nbformat_minor": 2
}
