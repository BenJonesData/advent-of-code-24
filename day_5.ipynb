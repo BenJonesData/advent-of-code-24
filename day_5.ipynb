{
 "cells": [
  {
   "cell_type": "code",
   "execution_count": 1,
   "metadata": {},
   "outputs": [],
   "source": [
    "from typing import List"
   ]
  },
  {
   "cell_type": "code",
   "execution_count": 2,
   "metadata": {},
   "outputs": [],
   "source": [
    "DUMMY_INPUT = \"\"\"47|53\n",
    "97|13\n",
    "97|61\n",
    "97|47\n",
    "75|29\n",
    "61|13\n",
    "75|53\n",
    "29|13\n",
    "97|29\n",
    "53|29\n",
    "61|53\n",
    "97|53\n",
    "61|29\n",
    "47|13\n",
    "75|47\n",
    "97|75\n",
    "47|61\n",
    "75|61\n",
    "47|29\n",
    "75|13\n",
    "53|13\n",
    "\n",
    "75,47,61,53,29\n",
    "97,61,53,29,13\n",
    "75,29,13\n",
    "75,97,47,61,53\n",
    "61,13,29\n",
    "97,13,75,29,47\"\"\""
   ]
  },
  {
   "cell_type": "markdown",
   "metadata": {},
   "source": [
    "## Part 1"
   ]
  },
  {
   "cell_type": "code",
   "execution_count": 3,
   "metadata": {},
   "outputs": [],
   "source": [
    "def test_sum_valid_middles(func):\n",
    "    # rows 1, 2 and 3 are correct, summing their middles gives 61 + 53 + 29 = 143\n",
    "    expected_output = 143\n",
    "\n",
    "    function_output = func(DUMMY_INPUT)\n",
    "\n",
    "    if function_output != expected_output:\n",
    "        raise ValueError(\"function does not return correct value\")\n",
    "    else:\n",
    "        print(\"passed\")"
   ]
  },
  {
   "cell_type": "code",
   "execution_count": 4,
   "metadata": {},
   "outputs": [],
   "source": [
    "def sum_valid_middles(string: str) -> int:\n",
    "    \"\"\"\n",
    "    Sums the middle number of each page number row that obeys the ordering rules. \n",
    "    \"\"\"\n",
    "    rules, updates = string.split(\"\\n\\n\")\n",
    "\n",
    "    rules = rules.split(\"\\n\")\n",
    "    rules = [rule.split('|') for rule in rules]\n",
    "    updates = updates.split(\"\\n\")\n",
    "    updates = [row.split(\",\") for row in updates]\n",
    "\n",
    "    total = 0\n",
    "    for row in updates:\n",
    "        is_valid = True\n",
    "        for i, page in enumerate(row[:-1]):\n",
    "            pages_after = [rule[1] for rule in rules if rule[0] == page]\n",
    "            if row[i+1] not in pages_after:\n",
    "                is_valid = False\n",
    "                break\n",
    "        if is_valid:\n",
    "            middle = len(row) // 2\n",
    "            total += int(row[middle])\n",
    "\n",
    "    return total"
   ]
  },
  {
   "cell_type": "code",
   "execution_count": 5,
   "metadata": {},
   "outputs": [
    {
     "name": "stdout",
     "output_type": "stream",
     "text": [
      "passed\n"
     ]
    }
   ],
   "source": [
    "test_sum_valid_middles(sum_valid_middles)"
   ]
  },
  {
   "cell_type": "code",
   "execution_count": 6,
   "metadata": {},
   "outputs": [],
   "source": [
    "with open('input_5.txt') as file:\n",
    "    rules_updates = file.read()"
   ]
  },
  {
   "cell_type": "code",
   "execution_count": 7,
   "metadata": {},
   "outputs": [
    {
     "data": {
      "text/plain": [
       "4774"
      ]
     },
     "execution_count": 7,
     "metadata": {},
     "output_type": "execute_result"
    }
   ],
   "source": [
    "sum_valid_middles(rules_updates)"
   ]
  },
  {
   "cell_type": "markdown",
   "metadata": {},
   "source": [
    "## Part 2"
   ]
  },
  {
   "cell_type": "code",
   "execution_count": 8,
   "metadata": {},
   "outputs": [],
   "source": [
    "def test_sum_corrected_middles(func):\n",
    "    # rows 4, 5 and 6 are incorrect, correcting and summing their middles gives 47 + 29 + 47 = 123\n",
    "    expected_output = 123\n",
    "\n",
    "    function_output = func(DUMMY_INPUT)\n",
    "\n",
    "    if function_output != expected_output:\n",
    "        raise ValueError(\"function does not return correct value\")\n",
    "    else:\n",
    "        print(\"passed\")"
   ]
  },
  {
   "cell_type": "code",
   "execution_count": 48,
   "metadata": {},
   "outputs": [],
   "source": [
    "def is_sublist(list1: List, list2: List) -> bool:\n",
    "    \"\"\"\n",
    "    Finds whether or not the first list is a sublist of the second.\n",
    "    \"\"\"\n",
    "    return set(list1).issubset(set(list2))"
   ]
  },
  {
   "cell_type": "code",
   "execution_count": 63,
   "metadata": {},
   "outputs": [],
   "source": [
    "def find_reordered_middle(row: list, rules: List[list]) -> list:\n",
    "    \"\"\"\n",
    "    Reorders a row based on the provided rules.\n",
    "    \"\"\"\n",
    "    row=row.copy()\n",
    "    reordered_row = []\n",
    "    middle_index = len(row) // 2\n",
    "\n",
    "    while len(row) > middle_index: # only need to reorder up to middle element\n",
    "        rules = [rule for rule in rules if is_sublist(rule, row)]\n",
    "        not_next = [rule[1] for rule in rules if is_sublist(rule, row)]\n",
    "        next_page = list(set(row) - set(not_next))[0]\n",
    "        row.remove(next_page)\n",
    "        reordered_row.append(next_page)\n",
    "    \n",
    "    # print(reordered_row)\n",
    "\n",
    "    return reordered_row[-1]"
   ]
  },
  {
   "cell_type": "code",
   "execution_count": 65,
   "metadata": {},
   "outputs": [],
   "source": [
    "def sum_corrected_middles(string: str) -> int:\n",
    "    \"\"\"\n",
    "    Finds the page number rows that do not obey the ordering rules, corrects them, and sums their middles.\n",
    "    \"\"\"\n",
    "    rules, updates = string.split(\"\\n\\n\")\n",
    "\n",
    "    rules = rules.split(\"\\n\")\n",
    "    rules = [rule.split('|') for rule in rules]\n",
    "    updates = updates.split(\"\\n\")\n",
    "    updates = [row.split(\",\") for row in updates]\n",
    "\n",
    "    total = 0\n",
    "    for row in updates:\n",
    "        is_invalid = False\n",
    "        for i, page in enumerate(row[:-1]):\n",
    "            pages_after = [rule[1] for rule in rules if rule[0] == page]\n",
    "            if row[i+1] not in pages_after:\n",
    "                is_invalid = True\n",
    "                break\n",
    "        if is_invalid:\n",
    "            total += int(find_reordered_middle(row, rules))\n",
    "            \n",
    "    return total"
   ]
  },
  {
   "cell_type": "code",
   "execution_count": 66,
   "metadata": {},
   "outputs": [
    {
     "name": "stdout",
     "output_type": "stream",
     "text": [
      "passed\n"
     ]
    }
   ],
   "source": [
    "test_sum_corrected_middles(sum_corrected_middles)"
   ]
  },
  {
   "cell_type": "code",
   "execution_count": 67,
   "metadata": {},
   "outputs": [
    {
     "data": {
      "text/plain": [
       "6004"
      ]
     },
     "execution_count": 67,
     "metadata": {},
     "output_type": "execute_result"
    }
   ],
   "source": [
    "sum_corrected_middles(rules_updates)"
   ]
  }
 ],
 "metadata": {
  "kernelspec": {
   "display_name": ".venv",
   "language": "python",
   "name": "python3"
  },
  "language_info": {
   "codemirror_mode": {
    "name": "ipython",
    "version": 3
   },
   "file_extension": ".py",
   "mimetype": "text/x-python",
   "name": "python",
   "nbconvert_exporter": "python",
   "pygments_lexer": "ipython3",
   "version": "3.10.15"
  }
 },
 "nbformat": 4,
 "nbformat_minor": 2
}
