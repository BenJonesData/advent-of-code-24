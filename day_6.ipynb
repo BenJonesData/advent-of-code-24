{
 "cells": [
  {
   "cell_type": "code",
   "execution_count": 1,
   "metadata": {},
   "outputs": [],
   "source": [
    "from typing import List\n",
    "import copy"
   ]
  },
  {
   "cell_type": "code",
   "execution_count": 2,
   "metadata": {},
   "outputs": [],
   "source": [
    "DUMMY_STARTING_POS = \"\"\"....#.....\n",
    ".........#\n",
    "..........\n",
    "..#.......\n",
    ".......#..\n",
    "..........\n",
    ".#..^.....\n",
    "........#.\n",
    "#.........\n",
    "......#...\"\"\""
   ]
  },
  {
   "cell_type": "markdown",
   "metadata": {
    "vscode": {
     "languageId": "plaintext"
    }
   },
   "source": [
    "## Part 1"
   ]
  },
  {
   "cell_type": "code",
   "execution_count": 3,
   "metadata": {},
   "outputs": [],
   "source": [
    "def test_count_positions(func):\n",
    "    expected_output = 41\n",
    "\n",
    "    function_output = func(DUMMY_STARTING_POS)\n",
    "\n",
    "    if function_output != expected_output:\n",
    "        raise ValueError(\"function does not return correct value\")\n",
    "    else:\n",
    "        print(\"passed\")"
   ]
  },
  {
   "cell_type": "code",
   "execution_count": 4,
   "metadata": {},
   "outputs": [],
   "source": [
    "class Guard:\n",
    "    def __init__(self, starting_map: str, loggers: bool):\n",
    "        self.current_map = self.convert_map_to_list(starting_map)\n",
    "        self.loggers = loggers\n",
    "        self.in_area = True\n",
    "    \n",
    "    def convert_map_to_list(self, map_str):\n",
    "        \"\"\"\n",
    "        Converts a map string into a list of lists. Each inner list represents a row.\n",
    "        \"\"\"\n",
    "        if isinstance(map_str, list):\n",
    "            return map_str\n",
    "        map_list = map_str.split(\"\\n\")\n",
    "        map_list = [list(row) for row in map_list]\n",
    "\n",
    "        return map_list\n",
    "    \n",
    "    def find_current_position(self) -> tuple:\n",
    "        \"\"\"\n",
    "        Finds the curent coordinates of the guard.\n",
    "        \"\"\"\n",
    "        for row_idx, row in enumerate(self.current_map):\n",
    "            if \"^\" in row:\n",
    "                return row.index(\"^\"), row_idx\n",
    "    \n",
    "    def rotate_map(self):\n",
    "        \"\"\"\n",
    "        Roates the map 90 degrees counter clockwise\n",
    "        \"\"\"\n",
    "        num_rows = len(self.current_map)\n",
    "        new_map = []\n",
    "        for i in range(num_rows):\n",
    "            new_map.append([row[num_rows - 1 - i] for row in self.current_map])\n",
    "        \n",
    "        self.current_map = new_map\n",
    "\n",
    "    def move(self):\n",
    "        \"\"\"\n",
    "        Moves the guard one space forward if there is no obstacle, or rotates the map if there is an obstacle.\n",
    "        \"\"\"\n",
    "        if not self.in_area:\n",
    "            if self.loggers:\n",
    "                print(\"Guard is not in the area\")\n",
    "            return\n",
    "        \n",
    "        col_num, row_num = self.find_current_position()\n",
    "        \n",
    "        if row_num == 0:\n",
    "            self.current_map[row_num][col_num] = \"X\"\n",
    "            self.in_area = False\n",
    "            logger = \"Guard has now left the area\"\n",
    "\n",
    "        elif self.current_map[row_num - 1][col_num] == \"#\":\n",
    "            self.rotate_map()\n",
    "            logger = \"Guard has turned 90 degrees\"\n",
    "\n",
    "        else:\n",
    "            self.current_map[row_num][col_num] = \"X\"\n",
    "            self.current_map[row_num - 1][col_num] = \"^\"\n",
    "            logger = \"Guard has taken a step\"\n",
    "        \n",
    "        if self.loggers:\n",
    "            print(logger)\n"
   ]
  },
  {
   "cell_type": "code",
   "execution_count": 5,
   "metadata": {},
   "outputs": [],
   "source": [
    "def count_positions(starting_pos: str) -> int:\n",
    "    \"\"\"\n",
    "    Simulates the guard's path and counts all positions visited.\n",
    "    \"\"\"\n",
    "    guard = Guard(starting_pos, loggers=False)\n",
    "    while guard.in_area:\n",
    "        guard.move()\n",
    "    \n",
    "    count = 0\n",
    "    for rows in guard.current_map:\n",
    "        count += rows.count(\"X\")\n",
    "\n",
    "    return count"
   ]
  },
  {
   "cell_type": "code",
   "execution_count": 6,
   "metadata": {},
   "outputs": [
    {
     "name": "stdout",
     "output_type": "stream",
     "text": [
      "passed\n"
     ]
    }
   ],
   "source": [
    "test_count_positions(count_positions)"
   ]
  },
  {
   "cell_type": "code",
   "execution_count": 7,
   "metadata": {},
   "outputs": [],
   "source": [
    "with open('input_6.txt') as file:\n",
    "    starting_position = file.read()"
   ]
  },
  {
   "cell_type": "code",
   "execution_count": 8,
   "metadata": {},
   "outputs": [
    {
     "data": {
      "text/plain": [
       "5177"
      ]
     },
     "execution_count": 8,
     "metadata": {},
     "output_type": "execute_result"
    }
   ],
   "source": [
    "count_positions(starting_position)"
   ]
  },
  {
   "cell_type": "markdown",
   "metadata": {},
   "source": [
    "## Part 2"
   ]
  },
  {
   "cell_type": "code",
   "execution_count": 9,
   "metadata": {},
   "outputs": [],
   "source": [
    "def test_count_loop_possibilities(func):\n",
    "    expected_output = 6\n",
    "\n",
    "    function_output = func(DUMMY_STARTING_POS)\n",
    "\n",
    "    if function_output != expected_output:\n",
    "        raise ValueError(\"function does not return correct value\")\n",
    "    else:\n",
    "        print(\"passed\")"
   ]
  },
  {
   "cell_type": "code",
   "execution_count": 10,
   "metadata": {},
   "outputs": [],
   "source": [
    "class AdvancedGuard(Guard):\n",
    "    \"\"\"\n",
    "    All the functionality to the ordinary guard class from above with additional features:\n",
    "        - Number of map rotations is saved so that orientation can be derived.\n",
    "        - Each time an obstacle is hit, the coordinates of the guard and the orientation of the map is saved.\n",
    "        - The in_loop variable is set to true when the same obstacle is hit twice on the same orientatiom, as this means that the guard is stuck in a loop.\n",
    "    \"\"\"\n",
    "    def __init__(self, starting_map: str, loggers: bool):\n",
    "        self.current_map = self.convert_map_to_list(starting_map)\n",
    "        self.loggers = loggers\n",
    "        self.rotations_count = 0\n",
    "        self.obstacles_hit_coordinates = []\n",
    "        self.in_area = True\n",
    "        self.in_loop = False\n",
    "\n",
    "        col_num, row_num = self.find_current_position()\n",
    "        self.current_coordinates = (col_num, row_num, 0)       \n",
    "    \n",
    "    def move(self):\n",
    "        \"\"\"\n",
    "        Moves the guard one space forward if there is no obstacle, or rotates the map if there is an obstacle.\n",
    "        \"\"\"\n",
    "        if not self.in_area:\n",
    "            if self.loggers:\n",
    "                print(\"Guard is not in the area\")\n",
    "            return\n",
    "    \n",
    "        col_num, row_num, orientation = self.current_coordinates\n",
    "\n",
    "        if row_num == 0:\n",
    "            self.current_map[row_num][col_num] = \"X\"\n",
    "            self.in_area = False\n",
    "            self.current_coordinates = (None, None, orientation)\n",
    "            if self.loggers:\n",
    "                print(\"Guard has now left the area\")\n",
    "            return\n",
    "\n",
    "        elif self.current_map[row_num - 1][col_num] == \"#\":\n",
    "            if self.current_coordinates in self.obstacles_hit_coordinates:\n",
    "                self.in_loop = True\n",
    "            else:\n",
    "                self.obstacles_hit_coordinates.append(self.current_coordinates)\n",
    "\n",
    "            self.rotate_map()\n",
    "            self.rotations_count += 1\n",
    "            logger = f\"Guard has turned 90 degrees. Loop status: {self.in_loop}\"\n",
    "            \n",
    "        else:\n",
    "            self.current_map[row_num][col_num] = \"X\"\n",
    "            self.current_map[row_num - 1][col_num] = \"^\"\n",
    "            logger = \"Guard has taken a step\"\n",
    "        \n",
    "        col_num, row_num = self.find_current_position()\n",
    "        orientation =  self.rotations_count % 4\n",
    "        self.current_coordinates = (col_num, row_num, orientation)\n",
    "        \n",
    "        if self.loggers:\n",
    "            print(logger)\n"
   ]
  },
  {
   "cell_type": "code",
   "execution_count": 11,
   "metadata": {},
   "outputs": [],
   "source": [
    "def test_map_for_loops(map: List[list], row: int, col: int) -> bool:\n",
    "    \"\"\"\n",
    "    Returns True if placing an obstacle in a position would create a loop, and False otherwise.\n",
    "    \"\"\"\n",
    "    new_map = copy.deepcopy(map)\n",
    "    new_map[row][col] = \"#\"\n",
    "\n",
    "    new_guard = AdvancedGuard(new_map, loggers=False)\n",
    "    while new_guard.in_area and not new_guard.in_loop:\n",
    "        new_guard.move()\n",
    "    \n",
    "    return new_guard.in_loop\n"
   ]
  },
  {
   "cell_type": "code",
   "execution_count": 12,
   "metadata": {},
   "outputs": [],
   "source": [
    "def count_loop_possibilities(starting_pos: str) -> int:\n",
    "    \"\"\"\n",
    "    Simulates the guard's path and at each point places an obstacle and resimulates to check for loops.\n",
    "    \"\"\"\n",
    "    guard = AdvancedGuard(starting_pos, loggers=False)\n",
    "\n",
    "    loop_possibilities = 0\n",
    "    steps = 0\n",
    "    while guard.in_area:\n",
    "        col_num, row_num, orientation = guard.current_coordinates\n",
    "        map = guard.current_map \n",
    "        if map[row_num-1][col_num] not in (\"X\", \"#\"):\n",
    "            loop = test_map_for_loops(map, row_num-1, col_num)\n",
    "            if loop:\n",
    "                loop_possibilities += 1\n",
    "        guard.move()\n",
    "        steps += 1\n",
    "\n",
    "    return loop_possibilities\n"
   ]
  },
  {
   "cell_type": "code",
   "execution_count": 13,
   "metadata": {},
   "outputs": [
    {
     "data": {
      "text/plain": [
       "6"
      ]
     },
     "execution_count": 13,
     "metadata": {},
     "output_type": "execute_result"
    }
   ],
   "source": [
    "count_loop_possibilities(DUMMY_STARTING_POS)"
   ]
  },
  {
   "cell_type": "code",
   "execution_count": 14,
   "metadata": {},
   "outputs": [
    {
     "name": "stdout",
     "output_type": "stream",
     "text": [
      "passed\n"
     ]
    }
   ],
   "source": [
    "test_count_loop_possibilities(count_loop_possibilities)"
   ]
  },
  {
   "cell_type": "code",
   "execution_count": 15,
   "metadata": {},
   "outputs": [
    {
     "data": {
      "text/plain": [
       "1686"
      ]
     },
     "execution_count": 15,
     "metadata": {},
     "output_type": "execute_result"
    }
   ],
   "source": [
    "count_loop_possibilities(starting_position)"
   ]
  }
 ],
 "metadata": {
  "kernelspec": {
   "display_name": ".venv",
   "language": "python",
   "name": "python3"
  },
  "language_info": {
   "codemirror_mode": {
    "name": "ipython",
    "version": 3
   },
   "file_extension": ".py",
   "mimetype": "text/x-python",
   "name": "python",
   "nbconvert_exporter": "python",
   "pygments_lexer": "ipython3",
   "version": "3.10.15"
  }
 },
 "nbformat": 4,
 "nbformat_minor": 2
}
