{
 "cells": [
  {
   "cell_type": "code",
   "execution_count": 1,
   "metadata": {},
   "outputs": [],
   "source": [
    "from collections import Counter"
   ]
  },
  {
   "cell_type": "code",
   "execution_count": 2,
   "metadata": {},
   "outputs": [],
   "source": [
    "DUMMY_STONES = \"125 17\""
   ]
  },
  {
   "cell_type": "markdown",
   "metadata": {},
   "source": [
    "## Part 1"
   ]
  },
  {
   "cell_type": "code",
   "execution_count": 3,
   "metadata": {},
   "outputs": [],
   "source": [
    "def test_count_stones(func):\n",
    "    expected_output = 55312\n",
    "\n",
    "    function_output = func(DUMMY_STONES, 25)\n",
    "\n",
    "    if function_output != expected_output:\n",
    "        raise ValueError(\"function does not return correct value\")\n",
    "    else:\n",
    "        print(\"passed\")"
   ]
  },
  {
   "cell_type": "code",
   "execution_count": null,
   "metadata": {},
   "outputs": [],
   "source": [
    "def count_stones(initial_stones: str, blinks: int) -> int:\n",
    "    \"\"\"\n",
    "    Counts the number of stones after a specified number of blinks.\n",
    "    \"\"\"\n",
    "    \n",
    "    stones = [num for num in initial_stones.split(\" \")]\n",
    "\n",
    "    for b in range(blinks):\n",
    "        updated_stones = []\n",
    "        for num in stones: \n",
    "            if num == \"0\":\n",
    "                updated_stones.append(\"1\")\n",
    "            elif len(num) % 2 == 0:\n",
    "                left = num[:len(num) // 2]\n",
    "                right = num[len(num) // 2:]\n",
    "                right = str(int(right)) # ensure multiple 0s are converted to just one\n",
    "                updated_stones += [left, right]\n",
    "            else:\n",
    "                prod = int(num) * 2024\n",
    "                updated_stones.append(str(prod))\n",
    "                        \n",
    "        stones = updated_stones\n",
    "    \n",
    "    return len(stones)"
   ]
  },
  {
   "cell_type": "code",
   "execution_count": 5,
   "metadata": {},
   "outputs": [
    {
     "name": "stdout",
     "output_type": "stream",
     "text": [
      "passed\n"
     ]
    }
   ],
   "source": [
    "test_count_stones(count_stones)"
   ]
  },
  {
   "cell_type": "code",
   "execution_count": 6,
   "metadata": {},
   "outputs": [],
   "source": [
    "with open('input_11.txt') as file:\n",
    "    stones = file.read()"
   ]
  },
  {
   "cell_type": "code",
   "execution_count": 7,
   "metadata": {},
   "outputs": [
    {
     "data": {
      "text/plain": [
       "185205"
      ]
     },
     "execution_count": 7,
     "metadata": {},
     "output_type": "execute_result"
    }
   ],
   "source": [
    "count_stones(stones, 25)"
   ]
  },
  {
   "cell_type": "markdown",
   "metadata": {},
   "source": [
    "## Part 2"
   ]
  },
  {
   "cell_type": "code",
   "execution_count": 8,
   "metadata": {},
   "outputs": [],
   "source": [
    "def count_stones_optimised(initial_stones: str, blinks: int) -> int:\n",
    "    \"\"\"\n",
    "    Counts the number of stones after a specified number of blinks using optimised logic.\n",
    "    \"\"\"\n",
    "\n",
    "    # Parse the initial stones\n",
    "    stones = Counter(initial_stones.split(\" \"))\n",
    "\n",
    "    for _ in range(blinks):\n",
    "        new_stones = Counter()\n",
    "        for num, count in stones.items():\n",
    "            if num == \"0\":\n",
    "                new_stones[\"1\"] += count\n",
    "            elif len(num) % 2 == 0:\n",
    "                left = num[:len(num) // 2]\n",
    "                right = num[len(num) // 2:]\n",
    "                right = str(int(right)) # ensure multiple 0s are converted to just one\n",
    "                new_stones[left] += count\n",
    "                new_stones[right] += count\n",
    "            else:\n",
    "                prod = int(num) * 2024\n",
    "                new_stones[str(prod)] += count\n",
    "        stones = new_stones\n",
    "\n",
    "    return sum(stones.values())"
   ]
  },
  {
   "cell_type": "code",
   "execution_count": 9,
   "metadata": {},
   "outputs": [
    {
     "name": "stdout",
     "output_type": "stream",
     "text": [
      "passed\n"
     ]
    }
   ],
   "source": [
    "test_count_stones(count_stones_optimised)"
   ]
  },
  {
   "cell_type": "code",
   "execution_count": 10,
   "metadata": {},
   "outputs": [
    {
     "data": {
      "text/plain": [
       "221280540398419"
      ]
     },
     "execution_count": 10,
     "metadata": {},
     "output_type": "execute_result"
    }
   ],
   "source": [
    "count_stones_optimised(stones, 75)"
   ]
  }
 ],
 "metadata": {
  "kernelspec": {
   "display_name": ".venv",
   "language": "python",
   "name": "python3"
  },
  "language_info": {
   "codemirror_mode": {
    "name": "ipython",
    "version": 3
   },
   "file_extension": ".py",
   "mimetype": "text/x-python",
   "name": "python",
   "nbconvert_exporter": "python",
   "pygments_lexer": "ipython3",
   "version": "3.10.15"
  }
 },
 "nbformat": 4,
 "nbformat_minor": 2
}
