{
 "cells": [
  {
   "cell_type": "code",
   "execution_count": 1,
   "metadata": {},
   "outputs": [],
   "source": [
    "DUMMY_INPUT = \"\"\"190: 10 19\n",
    "3267: 81 40 27\n",
    "83: 17 5\n",
    "156: 15 6\n",
    "7290: 6 8 6 15\n",
    "161011: 16 10 13\n",
    "192: 17 8 14\n",
    "21037: 9 7 18 13\n",
    "292: 11 6 16 20\"\"\""
   ]
  },
  {
   "cell_type": "markdown",
   "metadata": {},
   "source": [
    "## Part 1"
   ]
  },
  {
   "cell_type": "code",
   "execution_count": 2,
   "metadata": {},
   "outputs": [],
   "source": [
    "def test_equation_counter(func):\n",
    "    expected_output = 3749\n",
    "\n",
    "    function_output = func(DUMMY_INPUT)\n",
    "\n",
    "    if function_output != expected_output:\n",
    "        raise ValueError(\"function does not return correct value\")\n",
    "    else:\n",
    "        print(\"passed\")"
   ]
  },
  {
   "cell_type": "code",
   "execution_count": 3,
   "metadata": {},
   "outputs": [],
   "source": [
    "def calculate_possibilities(operands):\n",
    "    \"\"\"\n",
    "    Calculates all the possibile results from a list of numbers only using + and *.\n",
    "    \"\"\"\n",
    "    possibilities = []\n",
    "    if len(operands) == 2:\n",
    "        possibilities.append(operands[0] * operands[1])\n",
    "        possibilities.append(operands[0] + operands[1])\n",
    "    else:\n",
    "        # start from the end as operations go left to right\n",
    "        for poss in calculate_possibilities(operands[:-1]):\n",
    "            possibilities.append(operands[-1] * poss)\n",
    "            possibilities.append(operands[-1] + poss)\n",
    "    \n",
    "    return possibilities"
   ]
  },
  {
   "cell_type": "code",
   "execution_count": 4,
   "metadata": {},
   "outputs": [],
   "source": [
    "def equation_counter(equations: str) -> int:\n",
    "    \"\"\"\n",
    "    Counts the number of equations in the input that can be completed using +s and/or *s.\n",
    "    \"\"\"\n",
    "    equations = equations.split(\"\\n\")\n",
    "    equations = [equation.split(\": \") for equation in equations]\n",
    "    equations = [(equation[0], equation[1].split(\" \")) for equation in equations]\n",
    "\n",
    "    total = 0\n",
    "\n",
    "    for eq in equations:\n",
    "        result = int(eq[0])\n",
    "        operands = [int(num) for num in eq[1]]\n",
    "        possibilities = calculate_possibilities(operands)\n",
    "        if result in possibilities:\n",
    "            total += result\n",
    "\n",
    "    return total"
   ]
  },
  {
   "cell_type": "code",
   "execution_count": 5,
   "metadata": {},
   "outputs": [
    {
     "name": "stdout",
     "output_type": "stream",
     "text": [
      "passed\n"
     ]
    }
   ],
   "source": [
    "test_equation_counter(equation_counter)"
   ]
  },
  {
   "cell_type": "code",
   "execution_count": 6,
   "metadata": {},
   "outputs": [],
   "source": [
    "with open('input_7.txt') as file:\n",
    "    equations = file.read()"
   ]
  },
  {
   "cell_type": "code",
   "execution_count": 7,
   "metadata": {},
   "outputs": [
    {
     "data": {
      "text/plain": [
       "5540634308362"
      ]
     },
     "execution_count": 7,
     "metadata": {},
     "output_type": "execute_result"
    }
   ],
   "source": [
    "equation_counter(equations)"
   ]
  },
  {
   "cell_type": "markdown",
   "metadata": {},
   "source": [
    "## Part 2"
   ]
  },
  {
   "cell_type": "code",
   "execution_count": 8,
   "metadata": {},
   "outputs": [],
   "source": [
    "def test_equation_counter_with_concat(func):\n",
    "    expected_output = 11387\n",
    "\n",
    "    function_output = func(DUMMY_INPUT)\n",
    "\n",
    "    if function_output != expected_output:\n",
    "        raise ValueError(\"function does not return correct value\")\n",
    "    else:\n",
    "        print(\"passed\")   "
   ]
  },
  {
   "cell_type": "code",
   "execution_count": 9,
   "metadata": {},
   "outputs": [],
   "source": [
    "def concat(num1: int, num2: int) -> int:\n",
    "    \"\"\"\n",
    "    Performs the concatenation operation on two numbers.\n",
    "    \"\"\"\n",
    "    str1 = str(num1)\n",
    "    str2 = str(num2)\n",
    "    return int(str1 + str2)"
   ]
  },
  {
   "cell_type": "code",
   "execution_count": 10,
   "metadata": {},
   "outputs": [],
   "source": [
    "def calculate_possibilities_with_concat(operands):\n",
    "    \"\"\"\n",
    "    Calculates all the possibile results from a list of numbers only using + and *.\n",
    "    \"\"\"\n",
    "    possibilities = []\n",
    "    if len(operands) == 2:\n",
    "        possibilities.append(operands[0] * operands[1])\n",
    "        possibilities.append(operands[0] + operands[1])\n",
    "        possibilities.append(concat(operands[0], operands[1]))\n",
    "    else:\n",
    "        # start from the end as operations go left to right\n",
    "        for poss in calculate_possibilities_with_concat(operands[:-1]):\n",
    "            possibilities.append(operands[-1] * poss)\n",
    "            possibilities.append(operands[-1] + poss)\n",
    "            possibilities.append(concat(poss, operands[-1]))\n",
    "\n",
    "    \n",
    "    return possibilities"
   ]
  },
  {
   "cell_type": "code",
   "execution_count": 11,
   "metadata": {},
   "outputs": [],
   "source": [
    "def equation_counter_with_concat(equations: str) -> int:\n",
    "    \"\"\"\n",
    "    Counts the number of equations in the input that can be completed using +s and/or *s.\n",
    "    \"\"\"\n",
    "    equations = equations.split(\"\\n\")\n",
    "    equations = [equation.split(\": \") for equation in equations]\n",
    "    equations = [(equation[0], equation[1].split(\" \")) for equation in equations]\n",
    "\n",
    "    total = 0\n",
    "\n",
    "    for eq in equations:\n",
    "        result = int(eq[0])\n",
    "        operands = [int(num) for num in eq[1]]\n",
    "        possibilities = calculate_possibilities_with_concat(operands)\n",
    "        if result in possibilities:\n",
    "            total += result\n",
    "\n",
    "    return total"
   ]
  },
  {
   "cell_type": "code",
   "execution_count": 12,
   "metadata": {},
   "outputs": [
    {
     "name": "stdout",
     "output_type": "stream",
     "text": [
      "passed\n"
     ]
    }
   ],
   "source": [
    "test_equation_counter_with_concat(equation_counter_with_concat)"
   ]
  },
  {
   "cell_type": "code",
   "execution_count": 13,
   "metadata": {},
   "outputs": [
    {
     "data": {
      "text/plain": [
       "472290821152397"
      ]
     },
     "execution_count": 13,
     "metadata": {},
     "output_type": "execute_result"
    }
   ],
   "source": [
    "equation_counter_with_concat(equations)"
   ]
  }
 ],
 "metadata": {
  "kernelspec": {
   "display_name": ".venv",
   "language": "python",
   "name": "python3"
  },
  "language_info": {
   "codemirror_mode": {
    "name": "ipython",
    "version": 3
   },
   "file_extension": ".py",
   "mimetype": "text/x-python",
   "name": "python",
   "nbconvert_exporter": "python",
   "pygments_lexer": "ipython3",
   "version": "3.10.15"
  }
 },
 "nbformat": 4,
 "nbformat_minor": 2
}
